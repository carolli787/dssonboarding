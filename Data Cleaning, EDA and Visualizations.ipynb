{
 "cells": [
  {
   "cell_type": "markdown",
   "id": "3ff984e5",
   "metadata": {},
   "source": [
    "# Homework 2: Data Cleaning, EDA and Visualizations #"
   ]
  },
  {
   "cell_type": "code",
   "execution_count": 126,
   "id": "57a014bc",
   "metadata": {},
   "outputs": [
    {
     "name": "stdout",
     "output_type": "stream",
     "text": [
      "Requirement already satisfied: seaborn in c:\\users\\carol\\appdata\\local\\programs\\python\\python38\\lib\\site-packages (0.12.2)\n",
      "Requirement already satisfied: numpy!=1.24.0,>=1.17 in c:\\users\\carol\\appdata\\local\\programs\\python\\python38\\lib\\site-packages (from seaborn) (1.24.2)\n",
      "Requirement already satisfied: pandas>=0.25 in c:\\users\\carol\\appdata\\local\\programs\\python\\python38\\lib\\site-packages (from seaborn) (1.5.3)\n",
      "Requirement already satisfied: matplotlib!=3.6.1,>=3.1 in c:\\users\\carol\\appdata\\local\\programs\\python\\python38\\lib\\site-packages (from seaborn) (3.7.1)\n",
      "Requirement already satisfied: python-dateutil>=2.8.1 in c:\\users\\carol\\appdata\\roaming\\python\\python38\\site-packages (from pandas>=0.25->seaborn) (2.8.2)\n",
      "Requirement already satisfied: pytz>=2020.1 in c:\\users\\carol\\appdata\\local\\programs\\python\\python38\\lib\\site-packages (from pandas>=0.25->seaborn) (2022.7.1)\n",
      "Requirement already satisfied: contourpy>=1.0.1 in c:\\users\\carol\\appdata\\local\\programs\\python\\python38\\lib\\site-packages (from matplotlib!=3.6.1,>=3.1->seaborn) (1.0.7)\n",
      "Requirement already satisfied: pyparsing>=2.3.1 in c:\\users\\carol\\appdata\\local\\programs\\python\\python38\\lib\\site-packages (from matplotlib!=3.6.1,>=3.1->seaborn) (3.0.9)\n",
      "Requirement already satisfied: kiwisolver>=1.0.1 in c:\\users\\carol\\appdata\\local\\programs\\python\\python38\\lib\\site-packages (from matplotlib!=3.6.1,>=3.1->seaborn) (1.4.4)\n",
      "Requirement already satisfied: importlib-resources>=3.2.0; python_version < \"3.10\" in c:\\users\\carol\\appdata\\local\\programs\\python\\python38\\lib\\site-packages (from matplotlib!=3.6.1,>=3.1->seaborn) (5.12.0)\n",
      "Requirement already satisfied: pillow>=6.2.0 in c:\\users\\carol\\appdata\\local\\programs\\python\\python38\\lib\\site-packages (from matplotlib!=3.6.1,>=3.1->seaborn) (9.4.0)\n",
      "Requirement already satisfied: cycler>=0.10 in c:\\users\\carol\\appdata\\local\\programs\\python\\python38\\lib\\site-packages (from matplotlib!=3.6.1,>=3.1->seaborn) (0.11.0)\n",
      "Requirement already satisfied: fonttools>=4.22.0 in c:\\users\\carol\\appdata\\local\\programs\\python\\python38\\lib\\site-packages (from matplotlib!=3.6.1,>=3.1->seaborn) (4.39.0)\n",
      "Requirement already satisfied: packaging>=20.0 in c:\\users\\carol\\appdata\\roaming\\python\\python38\\site-packages (from matplotlib!=3.6.1,>=3.1->seaborn) (23.0)\n",
      "Requirement already satisfied: six>=1.5 in c:\\users\\carol\\appdata\\roaming\\python\\python38\\site-packages (from python-dateutil>=2.8.1->pandas>=0.25->seaborn) (1.16.0)\n",
      "Requirement already satisfied: zipp>=3.1.0; python_version < \"3.10\" in c:\\users\\carol\\appdata\\roaming\\python\\python38\\site-packages (from importlib-resources>=3.2.0; python_version < \"3.10\"->matplotlib!=3.6.1,>=3.1->seaborn) (3.15.0)\n",
      "Note: you may need to restart the kernel to use updated packages.\n"
     ]
    },
    {
     "name": "stderr",
     "output_type": "stream",
     "text": [
      "WARNING: You are using pip version 19.2.3, however version 23.0.1 is available.\n",
      "You should consider upgrading via the 'python -m pip install --upgrade pip' command.\n"
     ]
    }
   ],
   "source": [
    "pip install seaborn\n"
   ]
  },
  {
   "cell_type": "code",
   "execution_count": 127,
   "id": "1303dd69",
   "metadata": {},
   "outputs": [],
   "source": [
    "#import any libraries that you may need here\n",
    "import matplotlib.pyplot as plt\n",
    "import seaborn as sns\n",
    "import numpy as np\n",
    "import pandas as pd"
   ]
  },
  {
   "cell_type": "markdown",
   "id": "3695afd7",
   "metadata": {},
   "source": [
    "### We would like our new consultants and mentors to not just be technically skilled but also ethical leaders in their fields. Therefore, let us go over some basic data ethics knowledge. ###"
   ]
  },
  {
   "cell_type": "markdown",
   "id": "15eec8d5",
   "metadata": {},
   "source": [
    "## Section 1: Data Ethics\n",
    "\n",
    "### What are the different types of biases we mentioned during lecture? Pick one that you observe in yourself and describe how it may influence your decision-making."
   ]
  },
  {
   "cell_type": "code",
   "execution_count": 128,
   "id": "2f011486",
   "metadata": {},
   "outputs": [],
   "source": [
    "# My perception of others and the world is sometimes influenced by unconscious bias.  For example, if someone tells me they go to a well-known or highly ranked school, \n",
    "# I assume that they are smart, but I don't have the same assumption when others tell me they go to juniot or community college. \n",
    "# However, just becuase someone attends a prestigous college does not neccesarrily mean that they are smart, and\n",
    "# students at community colleges are not \"dumber\" than other students at better known universities. "
   ]
  },
  {
   "cell_type": "markdown",
   "id": "e0144af8",
   "metadata": {},
   "source": [
    "### How do you think you could overcome your biases? "
   ]
  },
  {
   "cell_type": "code",
   "execution_count": 129,
   "id": "15417493",
   "metadata": {},
   "outputs": [],
   "source": [
    "# I try to be more aware of my thoughts, and tell myself that measuring someone's intelligence based on the school they attend is not accurate or \n",
    "# represntative of someone's capabilities. I also recognize that everyone is multifaceated, and our abilities don't stem \n",
    "# from just one aspect such as education. "
   ]
  },
  {
   "cell_type": "markdown",
   "id": "c9b737e8",
   "metadata": {},
   "source": [
    "### What is one example of how unethical data analysis impacted a group of people? Avoid repeating the lecture example. "
   ]
  },
  {
   "cell_type": "code",
   "execution_count": 130,
   "id": "2eaf778d",
   "metadata": {},
   "outputs": [],
   "source": [
    "# In 2016, Danish researchers Emil Kirkegaard and Julius Daugbjerg-Bjerrekaer collected data from OkCupid using a bot profile. The researchers released information \n",
    "# about OkCupid users that included their age, gender, sexual orientation, and other personal responses on the Open Science Framework forum. \n",
    "# They argued that the data was already public, so their analysis was ethical. \n",
    "# However, just becuase some data is public, this does not mean that people feel comfortable having personal deatils be shared on an online forum.   "
   ]
  },
  {
   "cell_type": "markdown",
   "id": "04db6f66",
   "metadata": {},
   "source": [
    "## Section 2: Data Cleaning"
   ]
  },
  {
   "cell_type": "markdown",
   "id": "f9e9a162",
   "metadata": {},
   "source": [
    "### Pick out a dataset that you are interested in working with on [Kaggle](https://www.kaggle.com/datasets)! You should continue working with it in future homeworks so that you have a comprehensive data science project by the end of the semester so pick a good one.\n",
    "### Download it and add it to the same folder that you are working in so that you are able to load it easily. You can refer to the [slides](https://docs.google.com/presentation/d/1UPj0F_I0CYoiUrbuSR9sYq50FEh8-RDG4usnTFaUBJI/edit#slide=id.g1c0cc4ea8d8_0_1369) that we used for onboarding for any help. ###"
   ]
  },
  {
   "cell_type": "code",
   "execution_count": 131,
   "id": "5b22ef85",
   "metadata": {},
   "outputs": [
    {
     "data": {
      "text/html": [
       "<div>\n",
       "<style scoped>\n",
       "    .dataframe tbody tr th:only-of-type {\n",
       "        vertical-align: middle;\n",
       "    }\n",
       "\n",
       "    .dataframe tbody tr th {\n",
       "        vertical-align: top;\n",
       "    }\n",
       "\n",
       "    .dataframe thead th {\n",
       "        text-align: right;\n",
       "    }\n",
       "</style>\n",
       "<table border=\"1\" class=\"dataframe\">\n",
       "  <thead>\n",
       "    <tr style=\"text-align: right;\">\n",
       "      <th></th>\n",
       "      <th>season</th>\n",
       "      <th>episode</th>\n",
       "      <th>title</th>\n",
       "      <th>rdate</th>\n",
       "      <th>arate</th>\n",
       "      <th>arate_r</th>\n",
       "      <th>vcount</th>\n",
       "    </tr>\n",
       "  </thead>\n",
       "  <tbody>\n",
       "    <tr>\n",
       "      <th>0</th>\n",
       "      <td>1</td>\n",
       "      <td>1</td>\n",
       "      <td>Extreme Aggressor</td>\n",
       "      <td>22.Sep.2005</td>\n",
       "      <td>7.8</td>\n",
       "      <td>8</td>\n",
       "      <td>3096</td>\n",
       "    </tr>\n",
       "    <tr>\n",
       "      <th>1</th>\n",
       "      <td>1</td>\n",
       "      <td>2</td>\n",
       "      <td>Compulsion</td>\n",
       "      <td>28.Sep.2005</td>\n",
       "      <td>7.6</td>\n",
       "      <td>8</td>\n",
       "      <td>2589</td>\n",
       "    </tr>\n",
       "    <tr>\n",
       "      <th>2</th>\n",
       "      <td>1</td>\n",
       "      <td>3</td>\n",
       "      <td>Won't Get Fooled Again</td>\n",
       "      <td>5.Oct.2005</td>\n",
       "      <td>7.6</td>\n",
       "      <td>8</td>\n",
       "      <td>2551</td>\n",
       "    </tr>\n",
       "    <tr>\n",
       "      <th>3</th>\n",
       "      <td>1</td>\n",
       "      <td>4</td>\n",
       "      <td>Plain Sight</td>\n",
       "      <td>12.Oct.2005</td>\n",
       "      <td>7.7</td>\n",
       "      <td>8</td>\n",
       "      <td>2331</td>\n",
       "    </tr>\n",
       "    <tr>\n",
       "      <th>4</th>\n",
       "      <td>1</td>\n",
       "      <td>5</td>\n",
       "      <td>Broken Mirror</td>\n",
       "      <td>19.Oct.2005</td>\n",
       "      <td>7.9</td>\n",
       "      <td>8</td>\n",
       "      <td>2411</td>\n",
       "    </tr>\n",
       "  </tbody>\n",
       "</table>\n",
       "</div>"
      ],
      "text/plain": [
       "   season  episode                   title        rdate  arate  arate_r  \\\n",
       "0       1        1       Extreme Aggressor  22.Sep.2005    7.8        8   \n",
       "1       1        2              Compulsion  28.Sep.2005    7.6        8   \n",
       "2       1        3  Won't Get Fooled Again   5.Oct.2005    7.6        8   \n",
       "3       1        4             Plain Sight  12.Oct.2005    7.7        8   \n",
       "4       1        5           Broken Mirror  19.Oct.2005    7.9        8   \n",
       "\n",
       "   vcount  \n",
       "0    3096  \n",
       "1    2589  \n",
       "2    2551  \n",
       "3    2331  \n",
       "4    2411  "
      ]
     },
     "execution_count": 131,
     "metadata": {},
     "output_type": "execute_result"
    }
   ],
   "source": [
    "# load your dataset here, df is short for DataFrame. \n",
    "# E.g.You can use pd.read_csv() for csv files. \n",
    "df = pd.read_csv(\"finaldata_episodes.csv\")\n",
    "df.head(5)"
   ]
  },
  {
   "cell_type": "markdown",
   "id": "e0d173d8",
   "metadata": {},
   "source": [
    "####  Example"
   ]
  },
  {
   "cell_type": "code",
   "execution_count": 132,
   "id": "b17f27fb",
   "metadata": {},
   "outputs": [
    {
     "data": {
      "text/html": [
       "<div>\n",
       "<style scoped>\n",
       "    .dataframe tbody tr th:only-of-type {\n",
       "        vertical-align: middle;\n",
       "    }\n",
       "\n",
       "    .dataframe tbody tr th {\n",
       "        vertical-align: top;\n",
       "    }\n",
       "\n",
       "    .dataframe thead th {\n",
       "        text-align: right;\n",
       "    }\n",
       "</style>\n",
       "<table border=\"1\" class=\"dataframe\">\n",
       "  <thead>\n",
       "    <tr style=\"text-align: right;\">\n",
       "      <th></th>\n",
       "      <th>Year</th>\n",
       "      <th>Candidate</th>\n",
       "      <th>Party</th>\n",
       "      <th>Popular vote</th>\n",
       "      <th>Result</th>\n",
       "      <th>%</th>\n",
       "    </tr>\n",
       "  </thead>\n",
       "  <tbody>\n",
       "    <tr>\n",
       "      <th>0</th>\n",
       "      <td>1824</td>\n",
       "      <td>Andrew Jackson</td>\n",
       "      <td>Democratic-Republican</td>\n",
       "      <td>151271</td>\n",
       "      <td>loss</td>\n",
       "      <td>57.210122</td>\n",
       "    </tr>\n",
       "    <tr>\n",
       "      <th>1</th>\n",
       "      <td>1824</td>\n",
       "      <td>John Quincy Adams</td>\n",
       "      <td>Democratic-Republican</td>\n",
       "      <td>113142</td>\n",
       "      <td>win</td>\n",
       "      <td>42.789878</td>\n",
       "    </tr>\n",
       "    <tr>\n",
       "      <th>2</th>\n",
       "      <td>1828</td>\n",
       "      <td>Andrew Jackson</td>\n",
       "      <td>Democratic</td>\n",
       "      <td>642806</td>\n",
       "      <td>win</td>\n",
       "      <td>56.203927</td>\n",
       "    </tr>\n",
       "    <tr>\n",
       "      <th>3</th>\n",
       "      <td>1828</td>\n",
       "      <td>John Quincy Adams</td>\n",
       "      <td>National Republican</td>\n",
       "      <td>500897</td>\n",
       "      <td>loss</td>\n",
       "      <td>43.796073</td>\n",
       "    </tr>\n",
       "    <tr>\n",
       "      <th>4</th>\n",
       "      <td>1832</td>\n",
       "      <td>Andrew Jackson</td>\n",
       "      <td>Democratic</td>\n",
       "      <td>702735</td>\n",
       "      <td>win</td>\n",
       "      <td>54.574789</td>\n",
       "    </tr>\n",
       "  </tbody>\n",
       "</table>\n",
       "</div>"
      ],
      "text/plain": [
       "   Year          Candidate                  Party  Popular vote Result  \\\n",
       "0  1824     Andrew Jackson  Democratic-Republican        151271   loss   \n",
       "1  1824  John Quincy Adams  Democratic-Republican        113142    win   \n",
       "2  1828     Andrew Jackson             Democratic        642806    win   \n",
       "3  1828  John Quincy Adams    National Republican        500897   loss   \n",
       "4  1832     Andrew Jackson             Democratic        702735    win   \n",
       "\n",
       "           %  \n",
       "0  57.210122  \n",
       "1  42.789878  \n",
       "2  56.203927  \n",
       "3  43.796073  \n",
       "4  54.574789  "
      ]
     },
     "execution_count": 132,
     "metadata": {},
     "output_type": "execute_result"
    }
   ],
   "source": [
    "elections = pd.read_csv(\"elections.csv\")\n",
    "elections.head(5)"
   ]
  },
  {
   "cell_type": "markdown",
   "id": "9593b0c3",
   "metadata": {},
   "source": [
    "### Now let's do some data cleaning! Here are a list of questions that you should think through and answer while looking at your data. If your data is from kaggle, it might already be really clean, but practise answering these questions. \n",
    "\n",
    "### *At this point, just answer these questions and examine your data but don't attempt to clean it yet* ###\n",
    "\n",
    "- Does your data contain unrealistic or incorrect values?\n",
    "    - Dates in the future\n",
    "    - Locations that don’t exist\n",
    "    - Negative counts\n",
    "- Does your data violate obvious dependencies?\n",
    "    - Age and birthday not matching\n",
    "- Is the data coherent and consistent?\n",
    "    - Misspellings and inconsistent labels\n",
    "    - Was the data entered by hand?\n",
    "- Are there signs of data falsification?\n",
    "    - Repeated names, fake looking email addresses, uncommon names or fields\n",
    "- Do we need to convert any of the variable types in order to prepare for modelling?\n",
    "    - Qualitative variables that you might want to convert to numbers\n",
    "- Any other interesting observations?"
   ]
  },
  {
   "cell_type": "code",
   "execution_count": 133,
   "id": "57ca72ee",
   "metadata": {},
   "outputs": [],
   "source": [
    "### Write your answers to each of the questions here \n",
    "\n",
    "# Q1: Does your data contain unrealistic or incorrect values?\n",
    "\n",
    "# No, my data looks to be pretty organized: the columns are named in an understandble, straighforward manner, and all rows seem to be filled in. \n",
    "\n",
    "# Q2: Does your data violate obvious dependencies?\n",
    "\n",
    "# No, my data does not violate obvious dependencies. \n",
    "\n",
    "# Q3: Is the data coherent and consistent?\n",
    "\n",
    "# Yes, my data is coherent and consistent. For the most part, each feature is filled out for every row. \n",
    "\n",
    "# Q4: Are there signs of data falsification?\n",
    "\n",
    "# The data doesn't specifiy where or how the rating was collected. In addition, the people who rated the TV show may not be a representation of all the population that do watch Criminal Minds. \n",
    "\n",
    "# Q5: Do we need to convert any of the variable types in order to prepare for modelling?\n",
    "\n",
    "# I may want to convert the date into a different type. Right now, it is using both integers and strings. \n",
    "\n",
    "# Q6: Any other interesting observations?\n",
    "\n",
    "# The dataset uses 11 seasons of the show, but there are currently 16 seasons. In addition, the number of people who voted inn the rating is different for every episode, which is interesting. \n",
    "# Is this because there are different people voting for each episode? "
   ]
  },
  {
   "cell_type": "code",
   "execution_count": 134,
   "id": "0547a6e3",
   "metadata": {},
   "outputs": [
    {
     "data": {
      "text/html": [
       "<div>\n",
       "<style scoped>\n",
       "    .dataframe tbody tr th:only-of-type {\n",
       "        vertical-align: middle;\n",
       "    }\n",
       "\n",
       "    .dataframe tbody tr th {\n",
       "        vertical-align: top;\n",
       "    }\n",
       "\n",
       "    .dataframe thead th {\n",
       "        text-align: right;\n",
       "    }\n",
       "</style>\n",
       "<table border=\"1\" class=\"dataframe\">\n",
       "  <thead>\n",
       "    <tr style=\"text-align: right;\">\n",
       "      <th></th>\n",
       "      <th>season</th>\n",
       "      <th>episode</th>\n",
       "      <th>arate</th>\n",
       "      <th>arate_r</th>\n",
       "      <th>vcount</th>\n",
       "    </tr>\n",
       "  </thead>\n",
       "  <tbody>\n",
       "    <tr>\n",
       "      <th>count</th>\n",
       "      <td>333.000000</td>\n",
       "      <td>333.000000</td>\n",
       "      <td>333.000000</td>\n",
       "      <td>333.000000</td>\n",
       "      <td>333.000000</td>\n",
       "    </tr>\n",
       "    <tr>\n",
       "      <th>mean</th>\n",
       "      <td>7.822823</td>\n",
       "      <td>11.426426</td>\n",
       "      <td>7.674474</td>\n",
       "      <td>7.678679</td>\n",
       "      <td>1858.840841</td>\n",
       "    </tr>\n",
       "    <tr>\n",
       "      <th>std</th>\n",
       "      <td>4.254178</td>\n",
       "      <td>6.649451</td>\n",
       "      <td>0.430442</td>\n",
       "      <td>0.539463</td>\n",
       "      <td>606.026215</td>\n",
       "    </tr>\n",
       "    <tr>\n",
       "      <th>min</th>\n",
       "      <td>1.000000</td>\n",
       "      <td>1.000000</td>\n",
       "      <td>6.600000</td>\n",
       "      <td>7.000000</td>\n",
       "      <td>242.000000</td>\n",
       "    </tr>\n",
       "    <tr>\n",
       "      <th>25%</th>\n",
       "      <td>4.000000</td>\n",
       "      <td>6.000000</td>\n",
       "      <td>7.400000</td>\n",
       "      <td>7.000000</td>\n",
       "      <td>1606.000000</td>\n",
       "    </tr>\n",
       "    <tr>\n",
       "      <th>50%</th>\n",
       "      <td>8.000000</td>\n",
       "      <td>11.000000</td>\n",
       "      <td>7.600000</td>\n",
       "      <td>8.000000</td>\n",
       "      <td>1872.000000</td>\n",
       "    </tr>\n",
       "    <tr>\n",
       "      <th>75%</th>\n",
       "      <td>11.000000</td>\n",
       "      <td>17.000000</td>\n",
       "      <td>7.900000</td>\n",
       "      <td>8.000000</td>\n",
       "      <td>2171.000000</td>\n",
       "    </tr>\n",
       "    <tr>\n",
       "      <th>max</th>\n",
       "      <td>16.000000</td>\n",
       "      <td>25.000000</td>\n",
       "      <td>9.100000</td>\n",
       "      <td>9.000000</td>\n",
       "      <td>3902.000000</td>\n",
       "    </tr>\n",
       "  </tbody>\n",
       "</table>\n",
       "</div>"
      ],
      "text/plain": [
       "           season     episode       arate     arate_r       vcount\n",
       "count  333.000000  333.000000  333.000000  333.000000   333.000000\n",
       "mean     7.822823   11.426426    7.674474    7.678679  1858.840841\n",
       "std      4.254178    6.649451    0.430442    0.539463   606.026215\n",
       "min      1.000000    1.000000    6.600000    7.000000   242.000000\n",
       "25%      4.000000    6.000000    7.400000    7.000000  1606.000000\n",
       "50%      8.000000   11.000000    7.600000    8.000000  1872.000000\n",
       "75%     11.000000   17.000000    7.900000    8.000000  2171.000000\n",
       "max     16.000000   25.000000    9.100000    9.000000  3902.000000"
      ]
     },
     "execution_count": 134,
     "metadata": {},
     "output_type": "execute_result"
    }
   ],
   "source": [
    "# Any exploratory code here\n",
    "# You can refer to the pandas section of the slides to do this\n",
    "df.describe()"
   ]
  },
  {
   "cell_type": "markdown",
   "id": "511e6be4",
   "metadata": {},
   "source": [
    "### More factors to consider\n",
    "\n",
    "Here is a list of a few more questions to consider while data cleaning! Answer them to get a deeper understanding of your data.\n",
    "\n",
    "- Do any of the keys in each table reference each other?\n",
    "    - Primary keys are the column or set of columns in a table that determine the values of the remaining columns\n",
    "    - Foreign keys are the column or sets of columns that reference primary keys in other tables\n",
    "    - Can we merge them tables?\n",
    "- What does each field specify? \n",
    "    - What is the variable type? \n",
    "    - Qualitative(Ordinal and Nominal), Quantitative (Continuous and discrete)\n",
    "    - String, integer, float, list, array etc.\n",
    "- Granularity? What does each record represent? Are there aggregations?\n",
    "- Where was this data collected from? What types of questions were asked to gather this data? How representative is it? When was it collected?\n",
    "- Truncated data \n",
    "    - Check the platform that you are working on, does it limit your data size?\n",
    "- Time zone inconsistencies\n",
    "    - Convert to common timezone\n",
    "- Duplicated records or fields -> eliminate carefully\n",
    "- Spelling errors\n",
    "- Units not specified or inconsistent\n",
    "- Missing Data\n",
    "- Redundant data\n",
    "- Simplify \n",
    "    - Take one column\n",
    "    - Combine multiple columns  into one\n",
    "- Aggregation\n",
    "    - groupby\n"
   ]
  },
  {
   "cell_type": "code",
   "execution_count": 135,
   "id": "ff366816",
   "metadata": {},
   "outputs": [],
   "source": [
    "### Your answers to each of the questions/ observations about each factor here \n",
    "\n",
    "# Q1: Do any of the keys in each table reference each other?\n",
    "\n",
    "# In this dataset, there are multiple primary keys. Those features are: 'season', 'episode', and 'title'. These keys then influence the 'arate', 'arate_r', and 'vcount'.  "
   ]
  },
  {
   "cell_type": "code",
   "execution_count": 136,
   "id": "cc531999",
   "metadata": {},
   "outputs": [
    {
     "name": "stdout",
     "output_type": "stream",
     "text": [
      "Index(['season', 'episode', 'title', 'rdate', 'arate', 'arate_r', 'vcount'], dtype='object')\n",
      "RangeIndex(start=0, stop=333, step=1)\n",
      "(333, 7)\n",
      "4     25\n",
      "6     24\n",
      "7     24\n",
      "8     24\n",
      "9     24\n",
      "2     23\n",
      "5     23\n",
      "10    23\n",
      "1     22\n",
      "11    22\n",
      "12    22\n",
      "13    22\n",
      "3     20\n",
      "14    15\n",
      "15    10\n",
      "16    10\n",
      "Name: season, dtype: int64\n",
      "1     16\n",
      "2     16\n",
      "3     16\n",
      "4     16\n",
      "5     16\n",
      "6     16\n",
      "7     16\n",
      "8     16\n",
      "9     16\n",
      "10    16\n",
      "15    14\n",
      "14    14\n",
      "13    14\n",
      "12    14\n",
      "11    14\n",
      "16    13\n",
      "17    13\n",
      "18    13\n",
      "19    13\n",
      "20    13\n",
      "21    12\n",
      "22    12\n",
      "23     8\n",
      "24     5\n",
      "25     1\n",
      "Name: episode, dtype: int64\n"
     ]
    },
    {
     "data": {
      "text/plain": [
       "season\n",
       "1     7.731818\n",
       "2     7.947826\n",
       "3     7.870000\n",
       "4     7.948000\n",
       "5     7.713043\n",
       "6     7.641667\n",
       "7     7.704167\n",
       "8     7.616667\n",
       "9     7.670833\n",
       "10    7.491304\n",
       "11    7.459091\n",
       "12    7.386364\n",
       "13    7.472727\n",
       "14    7.566667\n",
       "15    7.690000\n",
       "16    8.030000\n",
       "Name: arate, dtype: float64"
      ]
     },
     "execution_count": 136,
     "metadata": {},
     "output_type": "execute_result"
    }
   ],
   "source": [
    "# Any exploratory code here. \n",
    "# You can refer to the pandas section of the slides to do this\n",
    "print(df.columns) # column labels \n",
    "print(df.index) # row labels \n",
    "print(df.shape)\n",
    "len(df)\n",
    "print(df['season'].value_counts())\n",
    "print(df['episode'].value_counts())\n",
    "df.groupby('season')['arate'].agg('mean')\n"
   ]
  },
  {
   "cell_type": "markdown",
   "id": "ed52565a",
   "metadata": {},
   "source": [
    "## Addressing Missing Data/ Default Values"
   ]
  },
  {
   "cell_type": "markdown",
   "id": "a1f7ff91",
   "metadata": {},
   "source": [
    "### As you cleaned your data, you may have observed missing data/ default values. Decide what to do with these values and explain your decision-making process.\n",
    "\n",
    "Here are some methods to deal with missing values:\n",
    "- Drop records with missing values\n",
    "    - Check for biases induced by missing values - there may be trends in why something is missing\n",
    "    - This requires domain knowledge to check for induced bias\n",
    "- Imputation: Inferring missing values\n",
    "    - Replace with average value (closest related subgroup mean)\n",
    "    - Replace with a random value from the closest subgroup(Hot deck imputation) \n",
    "- Numerical: \n",
    "    - mean, mode, median\n",
    "- Categorical\n",
    "    - Mode, new category\n",
    "- Directly model missing values during future analysis"
   ]
  },
  {
   "cell_type": "code",
   "execution_count": 137,
   "id": "81105df3",
   "metadata": {},
   "outputs": [
    {
     "data": {
      "text/plain": [
       "333"
      ]
     },
     "execution_count": 137,
     "metadata": {},
     "output_type": "execute_result"
    }
   ],
   "source": [
    "#Any preliminary cleaning necessary to start dealing with missing values\n",
    "df.dropna().head(5)\n",
    "len(df)"
   ]
  },
  {
   "cell_type": "code",
   "execution_count": 138,
   "id": "a1220e67",
   "metadata": {},
   "outputs": [
    {
     "data": {
      "text/html": [
       "<div>\n",
       "<style scoped>\n",
       "    .dataframe tbody tr th:only-of-type {\n",
       "        vertical-align: middle;\n",
       "    }\n",
       "\n",
       "    .dataframe tbody tr th {\n",
       "        vertical-align: top;\n",
       "    }\n",
       "\n",
       "    .dataframe thead th {\n",
       "        text-align: right;\n",
       "    }\n",
       "</style>\n",
       "<table border=\"1\" class=\"dataframe\">\n",
       "  <thead>\n",
       "    <tr style=\"text-align: right;\">\n",
       "      <th></th>\n",
       "      <th>Year</th>\n",
       "      <th>Candidate</th>\n",
       "      <th>Party</th>\n",
       "      <th>Popular vote</th>\n",
       "      <th>Result</th>\n",
       "      <th>%</th>\n",
       "    </tr>\n",
       "  </thead>\n",
       "  <tbody>\n",
       "    <tr>\n",
       "      <th>0</th>\n",
       "      <td>1824</td>\n",
       "      <td>Andrew Jackson</td>\n",
       "      <td>Democratic-Republican</td>\n",
       "      <td>151271</td>\n",
       "      <td>loss</td>\n",
       "      <td>57.210122</td>\n",
       "    </tr>\n",
       "    <tr>\n",
       "      <th>1</th>\n",
       "      <td>1824</td>\n",
       "      <td>John Quincy Adams</td>\n",
       "      <td>Democratic-Republican</td>\n",
       "      <td>113142</td>\n",
       "      <td>win</td>\n",
       "      <td>42.789878</td>\n",
       "    </tr>\n",
       "    <tr>\n",
       "      <th>2</th>\n",
       "      <td>1828</td>\n",
       "      <td>Andrew Jackson</td>\n",
       "      <td>Democratic</td>\n",
       "      <td>642806</td>\n",
       "      <td>win</td>\n",
       "      <td>56.203927</td>\n",
       "    </tr>\n",
       "    <tr>\n",
       "      <th>3</th>\n",
       "      <td>1828</td>\n",
       "      <td>John Quincy Adams</td>\n",
       "      <td>National Republican</td>\n",
       "      <td>500897</td>\n",
       "      <td>loss</td>\n",
       "      <td>43.796073</td>\n",
       "    </tr>\n",
       "    <tr>\n",
       "      <th>4</th>\n",
       "      <td>1832</td>\n",
       "      <td>Andrew Jackson</td>\n",
       "      <td>Democratic</td>\n",
       "      <td>702735</td>\n",
       "      <td>win</td>\n",
       "      <td>54.574789</td>\n",
       "    </tr>\n",
       "  </tbody>\n",
       "</table>\n",
       "</div>"
      ],
      "text/plain": [
       "   Year          Candidate                  Party  Popular vote Result  \\\n",
       "0  1824     Andrew Jackson  Democratic-Republican        151271   loss   \n",
       "1  1824  John Quincy Adams  Democratic-Republican        113142    win   \n",
       "2  1828     Andrew Jackson             Democratic        642806    win   \n",
       "3  1828  John Quincy Adams    National Republican        500897   loss   \n",
       "4  1832     Andrew Jackson             Democratic        702735    win   \n",
       "\n",
       "           %  \n",
       "0  57.210122  \n",
       "1  42.789878  \n",
       "2  56.203927  \n",
       "3  43.796073  \n",
       "4  54.574789  "
      ]
     },
     "execution_count": 138,
     "metadata": {},
     "output_type": "execute_result"
    }
   ],
   "source": [
    "#Code addressing missing values here e.g. df.dropna()\n",
    "elections.dropna().head(5) #remove this line, this is just an example"
   ]
  },
  {
   "cell_type": "code",
   "execution_count": 139,
   "id": "adffe4bb",
   "metadata": {},
   "outputs": [],
   "source": [
    "#Explain what types of missing values you found and the decisions you made in addressing them\n",
    "#After I called dropna() on my dataframe, I checked the length, which was the same value as before. This means that there were no NaN values in the dataset. "
   ]
  },
  {
   "cell_type": "markdown",
   "id": "0570266a",
   "metadata": {},
   "source": [
    "## Handling outliers"
   ]
  },
  {
   "cell_type": "markdown",
   "id": "6bff8903",
   "metadata": {},
   "source": [
    "### Now let's handle any outliers. Same process as before!\n",
    "\n",
    "Here are some methods to deal with handling outliers:\n",
    "- Drop records with outliers\n",
    "    - Check for biases induced by missing values - there may be trends in why something is missing\n",
    "    - This requires domain knowledge to check for induced bias\n",
    "- Replace, as with Inferring missing values\n",
    "    - Typically with min or max\n",
    "- Binning\n",
    "    - E.g. greater than 5"
   ]
  },
  {
   "cell_type": "code",
   "execution_count": 140,
   "id": "24a201fd",
   "metadata": {},
   "outputs": [],
   "source": [
    "#Code addressing outliers here"
   ]
  },
  {
   "cell_type": "code",
   "execution_count": 141,
   "id": "1d2fae88",
   "metadata": {},
   "outputs": [],
   "source": [
    "# I don't think there are any extreme outliers in my dataset. \n",
    "# There are minimum and maximum values in some columns, but I want to keep them in the dataset to see if there are any specific patterns.  "
   ]
  },
  {
   "cell_type": "markdown",
   "id": "401fa136",
   "metadata": {},
   "source": [
    "## Let's clean!"
   ]
  },
  {
   "cell_type": "markdown",
   "id": "a60c1bbf",
   "metadata": {},
   "source": [
    "### Now that we have a much deeper understanding of our data and have dealt with a few preliminary issues, clean up the data so that it is useful and accurate!  "
   ]
  },
  {
   "cell_type": "code",
   "execution_count": 142,
   "id": "896e2113",
   "metadata": {},
   "outputs": [
    {
     "data": {
      "text/plain": [
       "season       int64\n",
       "episode      int64\n",
       "title       object\n",
       "rdate       object\n",
       "arate      float64\n",
       "arate_r      int64\n",
       "vcount       int64\n",
       "dtype: object"
      ]
     },
     "execution_count": 142,
     "metadata": {},
     "output_type": "execute_result"
    }
   ],
   "source": [
    "### Your code here\n",
    "df.dtypes"
   ]
  },
  {
   "cell_type": "markdown",
   "id": "55179527",
   "metadata": {},
   "source": [
    "## Section 3: EDA "
   ]
  },
  {
   "cell_type": "markdown",
   "id": "874c1a52",
   "metadata": {},
   "source": [
    "### Study the data and observe any potential trends/ consider models that you might be able to implement. Study the relationships between the different columns and see if you can find any insights. List at least 2 potential project ideas."
   ]
  },
  {
   "cell_type": "code",
   "execution_count": 143,
   "id": "e7c7ee69",
   "metadata": {},
   "outputs": [
    {
     "name": "stdout",
     "output_type": "stream",
     "text": [
      "           season   episode     arate   arate_r    vcount\n",
      "season   1.000000 -0.148839 -0.239668 -0.258499 -0.730164\n",
      "episode -0.148839  1.000000  0.101157  0.026557  0.166862\n",
      "arate   -0.239668  0.101157  1.000000  0.809009  0.368744\n",
      "arate_r -0.258499  0.026557  0.809009  1.000000  0.320729\n",
      "vcount  -0.730164  0.166862  0.368744  0.320729  1.000000\n"
     ]
    },
    {
     "name": "stderr",
     "output_type": "stream",
     "text": [
      "C:\\Users\\carol\\AppData\\Local\\Temp\\ipykernel_19508\\2943195314.py:5: FutureWarning: The default value of numeric_only in DataFrame.corr is deprecated. In a future version, it will default to False. Select only valid columns or specify the value of numeric_only to silence this warning.\n",
      "  print(df.corr())\n"
     ]
    },
    {
     "data": {
      "text/html": [
       "<div>\n",
       "<style scoped>\n",
       "    .dataframe tbody tr th:only-of-type {\n",
       "        vertical-align: middle;\n",
       "    }\n",
       "\n",
       "    .dataframe tbody tr th {\n",
       "        vertical-align: top;\n",
       "    }\n",
       "\n",
       "    .dataframe thead th {\n",
       "        text-align: right;\n",
       "    }\n",
       "</style>\n",
       "<table border=\"1\" class=\"dataframe\">\n",
       "  <thead>\n",
       "    <tr style=\"text-align: right;\">\n",
       "      <th>arate_r</th>\n",
       "      <th>7</th>\n",
       "      <th>8</th>\n",
       "      <th>9</th>\n",
       "      <th>All</th>\n",
       "    </tr>\n",
       "    <tr>\n",
       "      <th>episode</th>\n",
       "      <th></th>\n",
       "      <th></th>\n",
       "      <th></th>\n",
       "      <th></th>\n",
       "    </tr>\n",
       "  </thead>\n",
       "  <tbody>\n",
       "    <tr>\n",
       "      <th>1</th>\n",
       "      <td>3</td>\n",
       "      <td>12</td>\n",
       "      <td>1</td>\n",
       "      <td>16</td>\n",
       "    </tr>\n",
       "    <tr>\n",
       "      <th>2</th>\n",
       "      <td>4</td>\n",
       "      <td>12</td>\n",
       "      <td>0</td>\n",
       "      <td>16</td>\n",
       "    </tr>\n",
       "    <tr>\n",
       "      <th>3</th>\n",
       "      <td>5</td>\n",
       "      <td>11</td>\n",
       "      <td>0</td>\n",
       "      <td>16</td>\n",
       "    </tr>\n",
       "    <tr>\n",
       "      <th>4</th>\n",
       "      <td>6</td>\n",
       "      <td>10</td>\n",
       "      <td>0</td>\n",
       "      <td>16</td>\n",
       "    </tr>\n",
       "    <tr>\n",
       "      <th>5</th>\n",
       "      <td>7</td>\n",
       "      <td>9</td>\n",
       "      <td>0</td>\n",
       "      <td>16</td>\n",
       "    </tr>\n",
       "    <tr>\n",
       "      <th>6</th>\n",
       "      <td>6</td>\n",
       "      <td>9</td>\n",
       "      <td>1</td>\n",
       "      <td>16</td>\n",
       "    </tr>\n",
       "    <tr>\n",
       "      <th>7</th>\n",
       "      <td>6</td>\n",
       "      <td>10</td>\n",
       "      <td>0</td>\n",
       "      <td>16</td>\n",
       "    </tr>\n",
       "    <tr>\n",
       "      <th>8</th>\n",
       "      <td>7</td>\n",
       "      <td>9</td>\n",
       "      <td>0</td>\n",
       "      <td>16</td>\n",
       "    </tr>\n",
       "    <tr>\n",
       "      <th>9</th>\n",
       "      <td>6</td>\n",
       "      <td>8</td>\n",
       "      <td>2</td>\n",
       "      <td>16</td>\n",
       "    </tr>\n",
       "    <tr>\n",
       "      <th>10</th>\n",
       "      <td>7</td>\n",
       "      <td>9</td>\n",
       "      <td>0</td>\n",
       "      <td>16</td>\n",
       "    </tr>\n",
       "    <tr>\n",
       "      <th>11</th>\n",
       "      <td>6</td>\n",
       "      <td>7</td>\n",
       "      <td>1</td>\n",
       "      <td>14</td>\n",
       "    </tr>\n",
       "    <tr>\n",
       "      <th>12</th>\n",
       "      <td>6</td>\n",
       "      <td>7</td>\n",
       "      <td>1</td>\n",
       "      <td>14</td>\n",
       "    </tr>\n",
       "    <tr>\n",
       "      <th>13</th>\n",
       "      <td>5</td>\n",
       "      <td>9</td>\n",
       "      <td>0</td>\n",
       "      <td>14</td>\n",
       "    </tr>\n",
       "    <tr>\n",
       "      <th>14</th>\n",
       "      <td>8</td>\n",
       "      <td>5</td>\n",
       "      <td>1</td>\n",
       "      <td>14</td>\n",
       "    </tr>\n",
       "    <tr>\n",
       "      <th>15</th>\n",
       "      <td>7</td>\n",
       "      <td>6</td>\n",
       "      <td>1</td>\n",
       "      <td>14</td>\n",
       "    </tr>\n",
       "    <tr>\n",
       "      <th>16</th>\n",
       "      <td>1</td>\n",
       "      <td>11</td>\n",
       "      <td>1</td>\n",
       "      <td>13</td>\n",
       "    </tr>\n",
       "    <tr>\n",
       "      <th>17</th>\n",
       "      <td>6</td>\n",
       "      <td>7</td>\n",
       "      <td>0</td>\n",
       "      <td>13</td>\n",
       "    </tr>\n",
       "    <tr>\n",
       "      <th>18</th>\n",
       "      <td>3</td>\n",
       "      <td>9</td>\n",
       "      <td>1</td>\n",
       "      <td>13</td>\n",
       "    </tr>\n",
       "    <tr>\n",
       "      <th>19</th>\n",
       "      <td>6</td>\n",
       "      <td>7</td>\n",
       "      <td>0</td>\n",
       "      <td>13</td>\n",
       "    </tr>\n",
       "    <tr>\n",
       "      <th>20</th>\n",
       "      <td>4</td>\n",
       "      <td>9</td>\n",
       "      <td>0</td>\n",
       "      <td>13</td>\n",
       "    </tr>\n",
       "    <tr>\n",
       "      <th>21</th>\n",
       "      <td>4</td>\n",
       "      <td>7</td>\n",
       "      <td>1</td>\n",
       "      <td>12</td>\n",
       "    </tr>\n",
       "    <tr>\n",
       "      <th>22</th>\n",
       "      <td>4</td>\n",
       "      <td>8</td>\n",
       "      <td>0</td>\n",
       "      <td>12</td>\n",
       "    </tr>\n",
       "    <tr>\n",
       "      <th>23</th>\n",
       "      <td>2</td>\n",
       "      <td>6</td>\n",
       "      <td>0</td>\n",
       "      <td>8</td>\n",
       "    </tr>\n",
       "    <tr>\n",
       "      <th>24</th>\n",
       "      <td>0</td>\n",
       "      <td>4</td>\n",
       "      <td>1</td>\n",
       "      <td>5</td>\n",
       "    </tr>\n",
       "    <tr>\n",
       "      <th>25</th>\n",
       "      <td>0</td>\n",
       "      <td>1</td>\n",
       "      <td>0</td>\n",
       "      <td>1</td>\n",
       "    </tr>\n",
       "    <tr>\n",
       "      <th>All</th>\n",
       "      <td>119</td>\n",
       "      <td>202</td>\n",
       "      <td>12</td>\n",
       "      <td>333</td>\n",
       "    </tr>\n",
       "  </tbody>\n",
       "</table>\n",
       "</div>"
      ],
      "text/plain": [
       "arate_r    7    8   9  All\n",
       "episode                   \n",
       "1          3   12   1   16\n",
       "2          4   12   0   16\n",
       "3          5   11   0   16\n",
       "4          6   10   0   16\n",
       "5          7    9   0   16\n",
       "6          6    9   1   16\n",
       "7          6   10   0   16\n",
       "8          7    9   0   16\n",
       "9          6    8   2   16\n",
       "10         7    9   0   16\n",
       "11         6    7   1   14\n",
       "12         6    7   1   14\n",
       "13         5    9   0   14\n",
       "14         8    5   1   14\n",
       "15         7    6   1   14\n",
       "16         1   11   1   13\n",
       "17         6    7   0   13\n",
       "18         3    9   1   13\n",
       "19         6    7   0   13\n",
       "20         4    9   0   13\n",
       "21         4    7   1   12\n",
       "22         4    8   0   12\n",
       "23         2    6   0    8\n",
       "24         0    4   1    5\n",
       "25         0    1   0    1\n",
       "All      119  202  12  333"
      ]
     },
     "execution_count": 143,
     "metadata": {},
     "output_type": "execute_result"
    }
   ],
   "source": [
    "# Exploratory code here\n",
    "\n",
    "#e.g. df.corr() gives you the correlation coefficients between columns\n",
    "\n",
    "print(df.corr())\n",
    "pd.crosstab(df[\"season\"], df[\"arate_r\"], margins = True)\n",
    "pd.crosstab(df[\"episode\"], df[\"arate_r\"], margins = True)\n",
    "\n",
    "#I wanted to see whether or not the season affected the rating. Sometimes, the first few seasons of the show are bad, but then it begins to pick up and get better after some more seasons. \n",
    "#However, there are also instances where the opposite is true. \n",
    "\n",
    "#My second idea is that the episode number also plays a role in the rating. For example, the first and season finales usually do get more attention, and more votes can influence the overall rating as well. "
   ]
  },
  {
   "cell_type": "markdown",
   "id": "d06757b0",
   "metadata": {},
   "source": [
    "# Section 4: Visualizations\n",
    "\n",
    "### This is also part of EDA! The whole process is rather cyclical. For this part, make 3 visualizations and describe what you see. \n",
    "\n",
    "### Then, make 2 out of 3 these visualizations.\n",
    "### 1. Heat Map\n",
    "### 2. KDE Plot\n",
    "### 3. Box Plot\n",
    "\n",
    "### So in total, you should have made 5 visualizations."
   ]
  },
  {
   "cell_type": "code",
   "execution_count": 144,
   "id": "e038af96",
   "metadata": {},
   "outputs": [
    {
     "data": {
      "image/png": "[encoded data removed]",
      "text/plain": [
       "<Figure size 640x480 with 1 Axes>"
      ]
     },
     "metadata": {},
     "output_type": "display_data"
    }
   ],
   "source": [
    "#Visualization 1\n",
    "\n",
    "p = sns.histplot(data = df, x=\"arate\", kde = True).set_title(\"Frequency of rating values\")\n",
    "\n",
    "\n",
    "#Your observations"
   ]
  },
  {
   "cell_type": "code",
   "execution_count": 145,
   "id": "f3a1d157",
   "metadata": {},
   "outputs": [
    {
     "data": {
      "image/png": "[encoded data removed]",
      "text/plain": [
       "<Figure size 640x480 with 1 Axes>"
      ]
     },
     "metadata": {},
     "output_type": "display_data"
    }
   ],
   "source": [
    "#Visualization 2\n",
    "\n",
    "p = df.boxplot(column=['vcount']).set_title(\"vcount distribution\")\n",
    "#Your observations"
   ]
  },
  {
   "cell_type": "code",
   "execution_count": 146,
   "id": "4474d277",
   "metadata": {},
   "outputs": [
    {
     "data": {
      "image/png": "[encoded data removed]",
      "text/plain": [
       "<Figure size 640x480 with 1 Axes>"
      ]
     },
     "metadata": {},
     "output_type": "display_data"
    }
   ],
   "source": [
    "#Visualization 3\n",
    "\n",
    "y =sns.scatterplot(data=df, x=\"episode\", y=\"arate\").set_title(\"Average rating for all episodes\")\n",
    "\n",
    "#Your observations"
   ]
  },
  {
   "cell_type": "code",
   "execution_count": 147,
   "id": "09fab91e",
   "metadata": {},
   "outputs": [
    {
     "data": {
      "image/png": "[encoded data removed]",
      "text/plain": [
       "<Figure size 640x480 with 1 Axes>"
      ]
     },
     "metadata": {},
     "output_type": "display_data"
    }
   ],
   "source": [
    "#Visualization 4\n",
    "\n",
    "df.columns\n",
    "p = df.groupby(\"season\")[\"arate\"].agg(\"mean\").to_frame()\n",
    "p['season'] = p.index\n",
    "z =p.plot.bar(x='season', y='arate', rot=0, title = \"Average rating per season across all episodes\")\n",
    "#Your observations"
   ]
  },
  {
   "cell_type": "code",
   "execution_count": 148,
   "id": "e292bd43",
   "metadata": {},
   "outputs": [
    {
     "data": {
      "text/plain": [
       "Text(0, 0.5, 'average rating')"
      ]
     },
     "execution_count": 148,
     "metadata": {},
     "output_type": "execute_result"
    },
    {
     "data": {
      "image/png": "[encoded data removed]",
      "text/plain": [
       "<Figure size 640x480 with 1 Axes>"
      ]
     },
     "metadata": {},
     "output_type": "display_data"
    }
   ],
   "source": [
    "#Visualization 5\n",
    "df.columns\n",
    "j = df.groupby(\"episode\")[\"arate\"].agg(\"mean\")\n",
    "z = j.plot.line(title = \"Average rating per episode across all seasons\")\n",
    "z.set_ylabel(\"average rating\")\n",
    "#Your observations"
   ]
  },
  {
   "cell_type": "markdown",
   "id": "e151a17a",
   "metadata": {},
   "source": [
    "### Which visualization is the best for your dataset and why?"
   ]
  },
  {
   "cell_type": "code",
   "execution_count": 149,
   "id": "8ff40fd6",
   "metadata": {},
   "outputs": [],
   "source": [
    "#The best visualization for my dataset is the historgram because it displays the distribution of the ratings that were given. Here, we see that the rating primarily ranged from 7-9, \n",
    "# and were highest at 7.4/7.6. However, my line graph displayed an interesting fact: as the season contintued, the last episodes rating much higher than the earlier episodes. "
   ]
  },
  {
   "cell_type": "markdown",
   "id": "3a8f9ef1",
   "metadata": {},
   "source": [
    "# Good job!\n",
    "\n",
    "### As a quick wrap-up, think about how your biases might have affected your judgement and if there is anything you want to work on. \n",
    "\n",
    "### As you can see, working with a dataset outside of class is much less structured. However, with practice, you will be become much sharper and efficient at wrangling data. Good luck with the next project!"
   ]
  },
  {
   "cell_type": "code",
   "execution_count": 150,
   "id": "384096cc",
   "metadata": {},
   "outputs": [],
   "source": [
    "#The ratings given in this dataset were only from 7-9, so I had assumed that they meant on a scale from one to 10. This preconception bias that I had may have been incorrect, \n",
    "# and if so, could have resulted in a misinterpretation of the data. 7 could have been a better rating than 8, but that would have been lost under my line of logic. \n",
    "# The data that I found is also interesting because it displays a pattern in audience enjoyment, which can help production of TV shows and movies. Since people like the last \n",
    "# episodes of seasons for Criminal Minds, the production team can focus on adding more suspense towards those episodes to gain maximum viewership. "
   ]
  },
  {
   "cell_type": "markdown",
   "id": "a36e4502",
   "metadata": {},
   "source": [
    "### Fantastic job ~ Remember to push all your changes your GitHub repository and submit on Gradescope.\n",
    "### Thank you for your time :)\n",
    "### That's all for this homework! "
   ]
  }
 ],
 "metadata": {
  "kernelspec": {
   "display_name": "Python 3 (ipykernel)",
   "language": "python",
   "name": "python3"
  },
  "language_info": {
   "codemirror_mode": {
    "name": "ipython",
    "version": 3
   },
   "file_extension": ".py",
   "mimetype": "text/x-python",
   "name": "python",
   "nbconvert_exporter": "python",
   "pygments_lexer": "ipython3",
   "version": "3.8.3"
  }
 },
 "nbformat": 4,
 "nbformat_minor": 5
}
